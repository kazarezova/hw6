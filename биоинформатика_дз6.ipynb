{
 "cells": [
  {
   "cell_type": "markdown",
   "metadata": {},
   "source": [
    "# 2\n",
    "Даны строка X и суффиксный массив S. За линейное относительно длины слова X время вычислить BWT(X) и функцию C от всех символов алфавита ($, A, C, G, T). \n",
    "\n",
    "Пример: дано X =ATATATTAG и S = [10, 8, 1, 3, 5, 9, 7, 2, 4, 6], программа должна вывести BWT(X) = GT$TTATAAA и значения C: C($) = 0, C(A) = 1, C(C) = 5,C(G) = 5, C(T) = 6."
   ]
  },
  {
   "cell_type": "code",
   "execution_count": 20,
   "metadata": {},
   "outputs": [
    {
     "name": "stdout",
     "output_type": "stream",
     "text": [
      "введите строку X: ATATATTAG\n",
      "введите суффиксный массив: 10, 8, 1, 3, 5, 9, 7, 2, 4, 6\n",
      "BWT(X)=GTTTATAAA\n",
      "C($)=0\n",
      "C(A)=1\n",
      "C(C)=5\n",
      "C(G)=5\n",
      "C(T)=6\n"
     ]
    }
   ],
   "source": [
    "x=''.join(['$',input('введите строку X: ').upper()])\n",
    "s=input('введите суффиксный массив: ').split(', ')\n",
    "for i in range(len(s)):\n",
    "    s[i]=int(s[i])\n",
    "\n",
    "bwt=[]\n",
    "for i in s:\n",
    "    if x[i-1]!='$':\n",
    "        bwt.append(x[i-1])\n",
    "bwt=''.join(bwt)\n",
    "print('BWT(X)=',bwt,sep='')\n",
    "\n",
    "c={'$':0,'A':0,'C':0,'G':0,'T':0}\n",
    "for i in c:\n",
    "    for j in x:\n",
    "        if j==i:\n",
    "            c[i]+=1\n",
    "\n",
    "c_final={}\n",
    "c_final['$']=0\n",
    "c_final['A']=c['$']\n",
    "c_final['C']=c_final['A']+c['A']\n",
    "c_final['G']=c_final['C']+c['C']\n",
    "c_final['T']=c_final['G']+c['G']\n",
    "for i in c_final:\n",
    "    print('C(',i,')=',c_final[i],sep='')"
   ]
  },
  {
   "cell_type": "markdown",
   "metadata": {},
   "source": [
    "# 4\n",
    "Определить множества топ-100 генов с наибольшим покрытиемридами для образцов TCGA-A6-2671-11A и TCGA-A6-2675-11A. Сколько генов находится в пересечении двух полученных множеств?\n",
    "# 5\n",
    "Построить scatterplot, ось абсцисс которого ассоциирована с покрытием ридами в образце TCGA-A6-2671-11A, ось ординат с покрытием ридами в образце TCGA-A6-2675-11A, а точками являются гены из пересечения, полученного в задаче 4."
   ]
  },
  {
   "cell_type": "code",
   "execution_count": 37,
   "metadata": {},
   "outputs": [
    {
     "name": "stdout",
     "output_type": "stream",
     "text": [
      "топ-100 генов с наибольшим покрытием ридами для образца TCGA-A6-2671-11A:\n",
      "Index(['ACTB', 'ACTG1', 'ACTG2', 'ACTN4', 'AHNAK', 'ALDOA', 'AOC1', 'APP',\n",
      "       'AQP8', 'ATP1A1', 'ATP5B', 'B2M', 'BSG', 'CA1', 'CA2', 'CD24', 'CD74',\n",
      "       'CEACAM5', 'CEACAM7', 'CES2', 'CFL1', 'CKB', 'CLCA4', 'CLDN4', 'CTSD',\n",
      "       'DES', 'EEF1A1', 'EEF2', 'EPCAM', 'FABP1', 'FCGBP', 'FLNA', 'FTH1',\n",
      "       'FTL', 'FXYD3', 'GAPDH', 'GPA33', 'GSN', 'HLA-A', 'HLA-B', 'HLA-C',\n",
      "       'HLA-E', 'HMGCS2', 'IGHA1', 'IGHA2', 'IGJ', 'IGKC', 'ITM2C', 'KRT18',\n",
      "       'KRT19', 'KRT20', 'KRT8', 'LGALS3', 'LGALS3BP', 'LGALS4', 'MT-ATP6',\n",
      "       'MT-CO1', 'MT-CO2', 'MT-CO3', 'MT-CYB', 'MT-ND1', 'MT-ND2', 'MT-ND3',\n",
      "       'MT-ND4', 'MT-ND5', 'MT-ND6', 'MT-RNR1', 'MT-RNR2', 'MUC13', 'MUC2',\n",
      "       'MYH11', 'MYH14', 'MYH9', 'MYL6', 'MYL9', 'PIGR', 'PSAP', 'RPL10',\n",
      "       'RPL13', 'RPL13A', 'RPL3', 'RPL8', 'RPLP0', 'RPLP1', 'RPS11', 'RPS18',\n",
      "       'RPS3', 'RPS6', 'S100A6', 'SELENBP1', 'SLC26A2', 'SLC26A3', 'ST14',\n",
      "       'TMBIM6', 'TMSB4X', 'TPT1', 'TSPAN1', 'TXNIP', 'ZG16'],\n",
      "      dtype='object', name='Gene')\n",
      "\n",
      "топ-100 генов с наибольшим покрытием ридами для образца TCGA-A6-2675-11A:\n",
      "Index(['ACTB', 'ACTG1', 'ACTG2', 'ACTN4', 'AHNAK', 'ALDOA', 'APP', 'ATP1A1',\n",
      "       'ATP5B', 'B2M', 'BSG', 'CALD1', 'CEACAM5', 'CEACAM7', 'CFL1', 'CKB',\n",
      "       'CLCA1', 'CNN1', 'COL1A2', 'COL3A1', 'COL6A2', 'CSRP1', 'DCN', 'DES',\n",
      "       'DSTN', 'EEF1A1', 'EEF2', 'EIF4G2', 'EPCAM', 'FABP1', 'FCGBP', 'FLNA',\n",
      "       'FLNC', 'FN1', 'FTL', 'GAPDH', 'GSN', 'HLA-A', 'HLA-B', 'HSP90AA1',\n",
      "       'HSPA8', 'HSPG2', 'IGFBP5', 'IGHA1', 'IGHA2', 'IGJ', 'IGKC', 'ITM2C',\n",
      "       'KRT19', 'KRT20', 'KRT8', 'LGALS3', 'LGALS4', 'MT-ATP6', 'MT-CO1',\n",
      "       'MT-CO2', 'MT-CO3', 'MT-CYB', 'MT-ND1', 'MT-ND2', 'MT-ND3', 'MT-ND4',\n",
      "       'MT-ND4L', 'MT-ND5', 'MT-ND6', 'MT-RNR1', 'MT-RNR2', 'MUC12', 'MUC13',\n",
      "       'MUC2', 'MYH11', 'MYH9', 'MYL6', 'MYL9', 'MYLK', 'PIGR', 'PLEC',\n",
      "       'PPP1R12B', 'PSAP', 'RPL13A', 'RPL3', 'RPL4', 'RPL8', 'RPLP0', 'RPS6',\n",
      "       'S100A6', 'SLC26A3', 'SMTN', 'SVIL', 'SYNM', 'SYNPO2', 'TAGLN', 'TLN1',\n",
      "       'TMBIM6', 'TNS1', 'TPM1', 'TPM2', 'TPT1', 'TXNIP'],\n",
      "      dtype='object', name='Gene')\n",
      "\n",
      "         TCGA-A6-2671-11A  TCGA-A6-2675-11A\n",
      "Gene                                       \n",
      "ACTB               369697            393437\n",
      "ACTG1              278902            191382\n",
      "ACTG2               73314            210170\n",
      "ACTN4               66560             45443\n",
      "AHNAK               90082            174300\n",
      "...                   ...               ...\n",
      "S100A6              80250             42786\n",
      "SLC26A3            257251             85383\n",
      "TMBIM6              69004             38800\n",
      "TPT1               140730             85598\n",
      "TXNIP               62746             53007\n",
      "\n",
      "[68 rows x 2 columns]\n"
     ]
    },
    {
     "data": {
      "text/plain": [
       "<matplotlib.axes._subplots.AxesSubplot at 0x25061d6d348>"
      ]
     },
     "execution_count": 37,
     "metadata": {},
     "output_type": "execute_result"
    },
    {
     "data": {
      "image/png": "[encoded data removed]",
      "text/plain": [
       "<Figure size 432x288 with 1 Axes>"
      ]
     },
     "metadata": {
      "needs_background": "light"
     },
     "output_type": "display_data"
    }
   ],
   "source": [
    "import pandas as pd\n",
    "df = pd.read_csv(\"TCGA-COAD.tsv\", sep=\"\\t\", index_col=0)\n",
    "\n",
    "# print(df.nlargest(100,[\"TCGA-A6-2671-11A\"])) #распечатав, узнаём, что 100-е max значение = 60116\n",
    "max_100_1=df.index[df[\"TCGA-A6-2671-11A\"] > 60116]\n",
    "print('топ-100 генов с наибольшим покрытием ридами для образца TCGA-A6-2671-11A:',max_100_1,sep='\\n',end='\\n\\n')\n",
    "# print(df.nlargest(100,[\"TCGA-A6-2675-11A\"])) #распечатав, узнаём, что 100-е max значение = 38340\n",
    "max_100_5=df.index[df[\"TCGA-A6-2675-11A\"] > 38340]\n",
    "print('топ-100 генов с наибольшим покрытием ридами для образца TCGA-A6-2675-11A:',max_100_5,sep='\\n',end='\\n\\n')\n",
    "\n",
    "df1=df.loc[(df[\"TCGA-A6-2671-11A\"] > 60116) & (df[\"TCGA-A6-2675-11A\"] > 38340), ['TCGA-A6-2671-11A','TCGA-A6-2675-11A']]\n",
    "print(df1)\n",
    "# распечатав, узнаём, что рядов 68 => Ответ: 68 генов находится в пересечении множеств\n",
    "\n",
    "import seaborn as sns\n",
    "import matplotlib.pyplot as plt\n",
    "\n",
    "sns.scatterplot(data=df1, x=\"TCGA-A6-2671-11A\", y=\"TCGA-A6-2675-11A\")"
   ]
  },
  {
   "cell_type": "code",
   "execution_count": null,
   "metadata": {},
   "outputs": [],
   "source": []
  }
 ],
 "metadata": {
  "kernelspec": {
   "display_name": "Python 3",
   "language": "python",
   "name": "python3"
  },
  "language_info": {
   "codemirror_mode": {
    "name": "ipython",
    "version": 3
   },
   "file_extension": ".py",
   "mimetype": "text/x-python",
   "name": "python",
   "nbconvert_exporter": "python",
   "pygments_lexer": "ipython3",
   "version": "3.7.4"
  }
 },
 "nbformat": 4,
 "nbformat_minor": 2
}
